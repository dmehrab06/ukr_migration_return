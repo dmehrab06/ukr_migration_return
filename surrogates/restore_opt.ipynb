{
 "cells": [
  {
   "cell_type": "code",
   "execution_count": 5,
   "id": "dff3881d-a8d9-49be-969b-0b88eda9fee6",
   "metadata": {
    "tags": []
   },
   "outputs": [
    {
     "name": "stdout",
     "output_type": "stream",
     "text": [
      "regions read..\n",
      "5\n",
      "6\n",
      "7\n",
      "9\n",
      "11\n",
      "12\n",
      "14\n",
      "19\n",
      "21\n",
      "23\n",
      "26\n",
      "29\n",
      "39\n",
      "40\n",
      "43\n",
      "45\n",
      "46\n",
      "48\n",
      "49\n",
      "50\n",
      "51\n",
      "53\n",
      "54\n",
      "63\n",
      "67\n",
      "78\n",
      "86\n",
      "87\n",
      "98\n"
     ]
    }
   ],
   "source": [
    "import numpy as np\n",
    "np.random.seed(1234)\n",
    "import matplotlib.pyplot as plt\n",
    "from skopt.plots import plot_gaussian_process\n",
    "from skopt.learning import ExtraTreesRegressor\n",
    "from skopt import Optimizer\n",
    "from file_paths_and_consts import *\n",
    "import os\n",
    "import geopandas as gpd\n",
    "import pandas as pd\n",
    "import json\n",
    "import sys\n",
    "import argparse\n",
    "import warnings\n",
    "import pickle\n",
    "import properscoring as ps\n",
    "import matplotlib.patches as mpatches\n",
    "import matplotlib.lines as mlines\n",
    "from skopt import Optimizer\n",
    "import sys\n",
    "from surrogate_utils import *\n",
    "\n",
    "warnings.filterwarnings('ignore')\n",
    "    \n",
    "geo_shp_file = BASE_DIR+'raw_data/UKR_shapefile_2/ukr_shp/ukr_admbnda_adm2_sspe_20230201.shp'\n",
    "ukr_gdf = gpd.read_file(geo_shp_file)\n",
    "all_raions = ukr_gdf['ADM2_EN'].tolist()\n",
    "print('regions read..',flush=True)\n",
    "\n",
    "raion_to_dest_df = pd.read_csv('from_raion_to_dest_refugee_pdf.csv')\n",
    "\n",
    "## reading ground truth data\n",
    "\n",
    "## poland gt data\n",
    "pl_border_data = pd.read_csv('poland_border_movement_utf8.csv',thousands=',')\n",
    "#ukr_people_arrive_poland_by_date = ukr_people_arrive_poland_by_date.dropna(subset=['Total'])\n",
    "pl_border_data['Date'] = pd.to_datetime(pl_border_data['Date'])\n",
    "ukr_people_arrive_poland_by_date = ((pl_border_data[(pl_border_data.Direction=='Arrival to Poland') & (pl_border_data['Citizenship (Code)']=='UA')]).groupby('Date')['Total'].sum()).reset_index()\n",
    "ukr_people_arrive_poland_by_date = ukr_people_arrive_poland_by_date.sort_values(by='Date')\n",
    "ukr_people_depart_poland_by_date = ((pl_border_data[(pl_border_data.Direction=='Departure from Poland') & (pl_border_data['Citizenship (Code)']=='UA')]).groupby('Date')['Total'].sum()).reset_index()\n",
    "ukr_people_depart_poland_by_date = ukr_people_depart_poland_by_date.sort_values(by='Date')\n",
    "ukr_people_arrive_poland_by_date['Total'] = ukr_people_arrive_poland_by_date['Total'].rolling(15).mean()\n",
    "ukr_people_depart_poland_by_date['Total'] = ukr_people_depart_poland_by_date['Total'].rolling(15).mean()\n",
    "ukr_people_arrive_poland_by_date = ukr_people_arrive_poland_by_date.dropna(subset='Total')\n",
    "ukr_people_depart_poland_by_date = ukr_people_depart_poland_by_date.dropna(subset='Total')\n",
    "ukr_people_arrive_poland_by_date =  ukr_people_arrive_poland_by_date.rename(columns={'Date':'return_date','Total':'arrival'})\n",
    "ukr_people_depart_poland_by_date =  ukr_people_depart_poland_by_date.rename(columns={'Date':'return_date','Total':'departure'})\n",
    "\n",
    "intention_sim_demo4 = load_intention_destination_df_by_demo_category4(raion_to_dest_df,all_raions)\n",
    "#intention_sim = load_intention_destination_df(raion_to_dest_df,all_raions)"
   ]
  },
  {
   "cell_type": "code",
   "execution_count": 2,
   "id": "d506de30-5cbc-463f-98ff-02fd30af4594",
   "metadata": {
    "tags": []
   },
   "outputs": [],
   "source": [
    "# ratios = [[],[],[],[]]\n",
    "\n",
    "# for df in intention_sim_demo4:\n",
    "#     mm = df['male_only'].sum()/df['h_size'].sum()\n",
    "#     ff = df['female_only'].sum()/df['h_size'].sum()\n",
    "#     cc = df['just_couples'].sum()/df['h_size'].sum()\n",
    "#     vv = df['elderly_and_or_child'].sum()/df['h_size'].sum()\n",
    "    \n",
    "#     ratios[0].append(mm)\n",
    "#     ratios[1].append(ff)\n",
    "#     ratios[2].append(cc)\n",
    "#     ratios[3].append(vv)\n",
    "\n",
    "# for i in range(4):\n",
    "#     print(np.mean(np.array(ratios[i]))*100.00,np.std(np.array(ratios[i]))*100.00)"
   ]
  },
  {
   "cell_type": "code",
   "execution_count": 6,
   "id": "67f78145-7f77-4404-9053-d54b3b193d30",
   "metadata": {
    "tags": []
   },
   "outputs": [],
   "source": [
    "import ast\n",
    "\n",
    "random_state = 4\n",
    "lerror = 0.5\n",
    "lcorr = 0.05\n",
    "\n",
    "roll = 7\n",
    "lag = 35\n",
    "\n",
    "conflict_context = get_conflict_data(roll,lag)\n",
    "\n",
    "opt = Optimizer([(0.0, 0.0009),(0.0, 0.0009),(0.0, 0.0009), (0.0, 0.0009)], \n",
    "                \"GP\", acq_func=\"EI\",acq_optimizer=\"sampling\",random_state=random_state)\n",
    "\n",
    "optimizer_name = f'return-optimizer-bayes-demo4-surrrogate-const-{random_state}'\n",
    "fname = 'slurm-1811658.out'\n",
    "\n",
    "p = f'slurm-{1811658+random_state}.out'\n",
    "data = []\n",
    "with open(p,\"r\") as f:\n",
    "    for i in f.readlines():\n",
    "        if i.startswith('['):\n",
    "            data.append(ast.literal_eval(i.strip()))\n",
    "#data = np.array(data)\n",
    "#print(data)\n",
    "#print(type(data))    \n"
   ]
  },
  {
   "cell_type": "code",
   "execution_count": 25,
   "id": "aed6fb16-4ee9-4cd4-b178-715c874856f2",
   "metadata": {
    "tags": []
   },
   "outputs": [
    {
     "name": "stdout",
     "output_type": "stream",
     "text": [
      "0.13576077980168522 0.9104908177685801\n"
     ]
    }
   ],
   "source": [
    "x_star = [0.0008572837442908861, 0.0002763449185189221, 0.00026894121233845544, 0.00028504189363068294]\n",
    "\n",
    "ll,nrmse,corr,crps,f_x = estimate_blackbox_function_loss_per_demo4(intention_sim_demo4,ukr_people_depart_poland_by_date,\n",
    "                                                           surrogate_conflict_haz,x_star,lerr=lerror,lcorr=lcorr,no_print=1,conflict_context=conflict_context)\n",
    "\n",
    "print(nrmse,corr)"
   ]
  },
  {
   "cell_type": "code",
   "execution_count": 11,
   "id": "c7878880-eb48-4144-94c3-3ffa7662fec5",
   "metadata": {
    "tags": []
   },
   "outputs": [
    {
     "data": {
      "text/plain": [
       "array([0.0001, 0.0002, 0.0003, 0.0004, 0.0005, 0.0006, 0.0007, 0.0008,\n",
       "       0.0009, 0.001 , 0.0011, 0.0012, 0.0013, 0.0014, 0.0015, 0.0016,\n",
       "       0.0017, 0.0018, 0.0019])"
      ]
     },
     "execution_count": 11,
     "metadata": {},
     "output_type": "execute_result"
    }
   ],
   "source": [
    "np.arange(0.0001,0.002,0.0001)"
   ]
  },
  {
   "cell_type": "code",
   "execution_count": 44,
   "id": "f3042109-58f1-4941-8537-7d3cf129c362",
   "metadata": {
    "tags": []
   },
   "outputs": [
    {
     "name": "stdout",
     "output_type": "stream",
     "text": [
      "0.0002 0.13867189955394865 0.9173836542905288\n",
      "0.00021 0.13803484148307188 0.9165424529319315\n",
      "0.00022 0.137483971485442 0.9156844313785454\n",
      "0.00023 0.13701379898966726 0.914816018372128\n",
      "0.00024 0.13662172138241982 0.9139217744862386\n",
      "0.00025 0.13630175478728956 0.9130049283903438\n",
      "0.00026 0.13604476742786642 0.9120702979654358\n",
      "0.00027 0.135852072037234 0.9111111388644654\n",
      "0.00028 0.13571776276977854 0.9101310867694784\n",
      "0.00029 0.1356343096302519 0.9091332601130484\n",
      "0.0003 0.1355964026523181 0.908122499554548\n",
      "0.00031 0.13560060838421906 0.9071029194857609\n",
      "0.00032 0.13564087558433513 0.9060797065676109\n",
      "0.00033 0.135708155125419 0.9050671514020183\n",
      "0.00034 0.13580566963342947 0.9040573573585996\n",
      "0.00035 0.13593311820626294 0.9030447905482658\n",
      "0.00036 0.13608981098803086 0.9020251124174332\n",
      "0.00037 0.1362690390523789 0.9010069441233529\n",
      "0.00038 0.1364685400159451 0.8999917267914916\n",
      "0.00039 0.1366822438748809 0.8989891139920231\n",
      "0.0002 0.1976579251836608 0.943266129190113\n",
      "0.00021 0.18192982927593632 0.9443679340608717\n",
      "0.00022 0.1682807775101172 0.9438719641389244\n",
      "0.00023 0.15688295562049567 0.9414798231506762\n",
      "0.00024 0.14787955024519933 0.9369709462971283\n",
      "0.00025 0.14133348895804362 0.9301967780174866\n",
      "0.00026 0.13729298611891566 0.920973948449435\n",
      "0.00027 0.13571007968911483 0.9090971796362959\n",
      "0.00028 0.13644393062406115 0.8943699440809777\n",
      "0.00029 0.13918510506059795 0.8768157492370982\n",
      "0.0003 0.14358072484784423 0.8565123565355393\n",
      "0.00031 0.14924680485582947 0.8335822806897799\n",
      "0.00032 0.15593805392212884 0.808042743553105\n",
      "0.00033 0.16343247687946516 0.7799400091841433\n",
      "0.00034 0.171536033098188 0.7494265823253957\n",
      "0.00035 0.1801066202963062 0.7165851587752036\n",
      "0.00036 0.18901313793666102 0.6816239618774395\n",
      "0.00037 0.19818748646414883 0.6446311435030605\n",
      "0.00038 0.2075911418015505 0.6056882099071564\n",
      "0.00039 0.21711779703143685 0.5652539087376716\n",
      "0.0002 0.1488620464226585 0.9335549666117343\n",
      "0.00021 0.14579797397463876 0.9316391555152327\n",
      "0.00022 0.14319722281621808 0.929511374449512\n",
      "0.00023 0.14104953069259302 0.9271688436568718\n",
      "0.00024 0.1392899032578856 0.9246240980473586\n",
      "0.00025 0.1379195774316743 0.9218707434207049\n",
      "0.00026 0.1369146244985677 0.9188805587727613\n",
      "0.00027 0.13622926506675262 0.9156811716562934\n",
      "0.00028 0.13584396692248432 0.9122901942496991\n",
      "0.00029 0.1357470177697828 0.9086645371426112\n",
      "0.0003 0.1358993425486 0.9048283247243892\n",
      "0.00031 0.13627519280303443 0.9008115708066508\n",
      "0.00032 0.13684596695275295 0.8966236543833264\n",
      "0.00033 0.13760477859779724 0.8922213569563724\n",
      "0.00034 0.13850756218943489 0.8876889650908115\n",
      "0.00035 0.13953814903482809 0.8830105852572224\n",
      "0.00036 0.14071604831945184 0.8781500741515594\n",
      "0.00037 0.1419960223423508 0.8731554688156267\n",
      "0.00038 0.14335215082997183 0.8680269337755068\n",
      "0.00039 0.14478873783164062 0.8627819452659043\n"
     ]
    },
    {
     "data": {
      "image/png": "[encoded data removed]",
      "text/plain": [
       "<Figure size 1200x300 with 3 Axes>"
      ]
     },
     "metadata": {},
     "output_type": "display_data"
    }
   ],
   "source": [
    "import matplotlib.pyplot as plt\n",
    "\n",
    "from matplotlib import rcParams\n",
    "\n",
    "max_font_size = 34\n",
    "rcParams[\"font.size\"] = max_font_size\n",
    "rcParams[\"axes.labelsize\"] = max_font_size-6\n",
    "rcParams[\"axes.titlesize\"] = max_font_size-6\n",
    "rcParams[\"xtick.labelsize\"] = max_font_size-12\n",
    "rcParams[\"ytick.labelsize\"] = max_font_size-12\n",
    "\n",
    "fig,ax = plt.subplots(1,3,figsize=(12,3))\n",
    "\n",
    "\n",
    "groups = ['F','V','X']\n",
    "colors = ['#b2182b','#fddbc7','#67a9cf']\n",
    "\n",
    "\n",
    "for i in range(1,4):\n",
    "    x_star = [0.0008572837442908861, 0.0002763449185189221, 0.00026894121233845544, 0.00028504189363068294]\n",
    "    xs = []\n",
    "    errs = []\n",
    "    pccs = []\n",
    "    for x in np.arange(0.0002,0.0004,0.00001):\n",
    "        x_star[i] = x\n",
    "        ll,nrmse,corr,crps,f_x = estimate_blackbox_function_loss_per_demo4(intention_sim_demo4,ukr_people_depart_poland_by_date,\n",
    "                                                               surrogate_conflict_haz,x_star,lerr=lerror,lcorr=lcorr,no_print=1,conflict_context=conflict_context)\n",
    "        xs.append(x)\n",
    "        errs.append(nrmse)\n",
    "        pccs.append(corr)\n",
    "        print(round(x,5),nrmse,corr)\n",
    "    \n",
    "    ax[i-1].plot(xs,errs,label='Err',marker='o',color=colors[i-1])\n",
    "    ax[i-1].set_xlabel('$h_g$',fontsize=28)\n",
    "    if i==1:\n",
    "        ax[i-1].set_ylabel('NRMSE',fontsize=28)\n",
    "    ax[i-1].set_title(f'Group: {groups[i-1]}',fontsize=32)\n",
    "    #ax2 = ax[i-1].twinx()\n",
    "    #ax2.plot(xs,pccs,label='PCC',marker='P')\n",
    "\n",
    "fig.tight_layout()"
   ]
  },
  {
   "cell_type": "code",
   "execution_count": 9,
   "id": "2bdd79cb-f59d-4770-9728-d15650e11202",
   "metadata": {
    "tags": []
   },
   "outputs": [],
   "source": [
    "def compute_covariance(sim_df, observed_df, observe_col, date_start, date_end,lerror=0.8, lcorr=0.2, date_col='return_date',gt_scale=1.0,print_flag=1):\n",
    "    merged_df = sim_df.merge(observed_df,on=date_col,how='inner')\n",
    "    merged_df = merged_df[(merged_df[date_col]>=pd.to_datetime(date_start)) & (merged_df[date_col]<=pd.to_datetime(date_end))]\n",
    "    merged_df[observe_col] = merged_df[observe_col]/gt_scale\n",
    "    return merged_df[observe_col].cov(merged_df['returnee'])\n",
    "\n",
    "def compute_std(sim_df, observed_df, observe_col, date_start, date_end,lerror=0.8, lcorr=0.2, date_col='return_date',gt_scale=1.0,print_flag=1):\n",
    "    merged_df = sim_df.merge(observed_df,on=date_col,how='inner')\n",
    "    merged_df = merged_df[(merged_df[date_col]>=pd.to_datetime(date_start)) & (merged_df[date_col]<=pd.to_datetime(date_end))]\n",
    "    merged_df[observe_col] = merged_df[observe_col]/gt_scale\n",
    "    return merged_df['returnee'].std()"
   ]
  },
  {
   "cell_type": "code",
   "execution_count": null,
   "id": "84af3b05-b4e4-4d11-aaa8-b4815e0ad1ab",
   "metadata": {
    "tags": []
   },
   "outputs": [],
   "source": [
    "x_star = [0.0002]\n",
    "ll,nrmse,corr,crps,f_x = estimate_blackbox_function_loss(intention_sim,ukr_people_depart_poland_by_date,\n",
    "                                                      surrogate_conflict_haz,x_star,lerr=lerror,lcorr=lcorr,\n",
    "                                                      no_print=1,conflict_context=conflict_context)\n",
    "\n",
    "cov1 = compute_covariance(f_x, ukr_people_depart_poland_by_date, 'departure', '2022-04-01', '2022-08-01',\n",
    "                         print_flag=0)\n",
    "print(cov)\n",
    "\n",
    "std1 = compute_std(f_x, ukr_people_depart_poland_by_date, 'departure', '2022-04-01', '2022-08-01',\n",
    "                         print_flag=0)\n",
    "print(std)\n",
    "\n",
    "x_star = [0.00021]\n",
    "ll,nrmse,corr,crps,f_x = estimate_blackbox_function_loss(intention_sim,ukr_people_depart_poland_by_date,\n",
    "                                                      surrogate_conflict_haz,x_star,lerr=lerror,lcorr=lcorr,\n",
    "                                                      no_print=1,conflict_context=conflict_context)\n",
    "\n",
    "cov2 = compute_covariance(f_x, ukr_people_depart_poland_by_date, 'departure', '2022-04-01', '2022-08-01',\n",
    "                         print_flag=0)\n",
    "print(cov)\n",
    "\n",
    "std2 = compute_std(f_x, ukr_people_depart_poland_by_date, 'departure', '2022-04-01', '2022-08-01',\n",
    "                         print_flag=0)\n",
    "print(std)\n",
    "\n",
    "grad_cov1 = (cov1-cov2)/(0.0002-0.00021)\n",
    "grad_std1 = (std1-std2)/(0.0002-0.00021)\n",
    "\n",
    "lhs = grad_cov1/cov1\n",
    "rhs = grad_std1/std1\n",
    "\n",
    "print(lhs,rhs)\n"
   ]
  },
  {
   "cell_type": "code",
   "execution_count": 26,
   "id": "b504a6d8-7f37-419b-acff-bfde125e47ba",
   "metadata": {
    "tags": []
   },
   "outputs": [
    {
     "data": {
      "text/plain": [
       "array([0.0001 , 0.00015, 0.0002 , 0.00025, 0.0003 , 0.00035, 0.0004 ,\n",
       "       0.00045, 0.0005 , 0.00055, 0.0006 , 0.00065, 0.0007 , 0.00075,\n",
       "       0.0008 , 0.00085, 0.0009 , 0.00095])"
      ]
     },
     "execution_count": 26,
     "metadata": {},
     "output_type": "execute_result"
    }
   ],
   "source": [
    "np.arange(0.0001,0.001,0.00005)"
   ]
  },
  {
   "cell_type": "code",
   "execution_count": 34,
   "id": "13b063ff-d91b-4c02-b0be-905e32efffa6",
   "metadata": {
    "tags": []
   },
   "outputs": [
    {
     "name": "stdout",
     "output_type": "stream",
     "text": [
      "0.0002765 -4095.0297391708245 -1979.413277633593 -17.83132830834866\n",
      "0.0002766 -4098.525636114859 -1976.5447459381091 -13.966555914568524\n",
      "0.0002767 -4102.023035381989 -1973.670578480364 -10.105441525243286\n",
      "0.0002768 -4105.521993627312 -1970.790819656766 -6.248004696951526\n",
      "0.0002769 -4109.02241455477 -1967.9053942409648 -2.3942861748782462\n",
      "0.000277 -4112.52443672288 -1965.0144194069128 1.4556988614522481\n",
      "0.0002771 -4107.421301841447 -1941.8696705657635 6.584413908550246\n",
      "0.0002772 -4151.437527841684 -1986.6011210644238 18.054936753997275\n",
      "0.0002773 -4154.970179750139 -1983.640919788741 21.890978962879615\n",
      "0.0002774 -4158.504449937135 -1980.6750170023765 25.72312268467325\n",
      "0.0002775 -4162.040292599788 -1977.703386043719 29.55133452109404\n"
     ]
    }
   ],
   "source": [
    "delta = 0.00000001\n",
    "\n",
    "all_dicts = []\n",
    "\n",
    "for xs in np.arange(0.0002765,0.0002775,0.0000001):\n",
    "    x_star = [xs]\n",
    "    ll,nrmse1,corr,crps,f_x = estimate_blackbox_function_loss(intention_sim,ukr_people_depart_poland_by_date,\n",
    "                                                          surrogate_conflict_haz,x_star,lerr=lerror,lcorr=lcorr,\n",
    "                                                          no_print=1,conflict_context=conflict_context)\n",
    "\n",
    "    cov1 = compute_covariance(f_x, ukr_people_depart_poland_by_date, 'departure', '2022-04-01', '2022-08-01',\n",
    "                             print_flag=0)\n",
    "    #print(cov)\n",
    "\n",
    "    std1 = compute_std(f_x, ukr_people_depart_poland_by_date, 'departure', '2022-04-01', '2022-08-01',\n",
    "                             print_flag=0)\n",
    "    #print(std)\n",
    "\n",
    "    x_star = [xs+delta]\n",
    "    ll,nrmse2,corr,crps,f_x = estimate_blackbox_function_loss(intention_sim,ukr_people_depart_poland_by_date,\n",
    "                                                          surrogate_conflict_haz,x_star,lerr=lerror,lcorr=lcorr,\n",
    "                                                          no_print=1,conflict_context=conflict_context)\n",
    "\n",
    "    cov2 = compute_covariance(f_x, ukr_people_depart_poland_by_date, 'departure', '2022-04-01', '2022-08-01',\n",
    "                             print_flag=0)\n",
    "    #print(cov)\n",
    "\n",
    "    std2 = compute_std(f_x, ukr_people_depart_poland_by_date, 'departure', '2022-04-01', '2022-08-01',\n",
    "                             print_flag=0)\n",
    "    #print(std)\n",
    "\n",
    "    grad_cov1 = (cov1-cov2)/(-delta)\n",
    "    grad_std1 = (std1-std2)/(-delta)\n",
    "\n",
    "    lhs = grad_cov1/cov1\n",
    "    rhs = grad_std1/std1\n",
    "\n",
    "    print(round(xs,7),lhs,rhs,(nrmse1-nrmse2)/(-delta))\n",
    "    all_dicts.append({'$\\\\theta$':xs,'$\\\\frac{\\\\nabla \\sigma_{f, \\\\hat{R}}}{\\\\sigma_{f,\\hat{R}}}$':lhs,\n",
    "                     '$\\\\frac{\\\\nabla \\sigma_f}{\\sigma_f}$':rhs,'$\\\\nabla RMSE(\\\\theta)$':(nrmse1-nrmse2)/(-delta)})\n",
    "    \n",
    "around_loc_min = pd.DataFrame.from_dict(all_dicts)"
   ]
  },
  {
   "cell_type": "code",
   "execution_count": 26,
   "id": "fa8d2b21-b6d4-435a-86a9-31425fa18b3d",
   "metadata": {
    "tags": []
   },
   "outputs": [
    {
     "name": "stdout",
     "output_type": "stream",
     "text": [
      "0.0001 4364.290874228776 2908.489304411506 -5088.988559531771\n",
      "0.00015 793.349641866539 -384.2760866996443 -3685.474779929754\n",
      "0.0002 -1362.7762940553077 -2090.909702256894 -2566.1565254270213\n",
      "0.00025 -3180.140218053641 -2453.694802998954 -1086.638761607639\n",
      "0.0003 -4980.408036783411 -1341.1704060188233 707.5862925004506\n",
      "0.00035 -7602.458343771509 486.0040140208146 1302.2476356677748\n",
      "0.0004 -13579.183999764045 2092.404580995422 1375.0022766101376\n",
      "0.00045 -41855.27309031125 2644.295102533105 1271.5651009520545\n",
      "0.0005 38370.934345798596 2489.9756937682673 1135.9667186627842\n",
      "0.00055 12872.496545078 2309.491283073254 1035.7449393594286\n",
      "0.0006 7438.6535180149895 2060.997093809742 937.9260593023187\n",
      "0.00065 5139.107267662711 1828.3335217585513 857.0310376154744\n",
      "0.0007 3835.1511314321274 1581.3971865662072 772.5405049452405\n",
      "0.00075 3022.061252015815 1379.7768695935179 703.1521820910491\n",
      "0.0008 2431.3182764614453 1192.2738249157335 632.4074083630115\n",
      "0.00085 2015.3892181897102 1043.4857370087716 573.4785325617331\n",
      "0.0009 1707.8858604799284 933.6093969764858 529.3765467873079\n",
      "0.00095 1463.3935968657759 839.9737239423351 489.63480934194337\n"
     ]
    }
   ],
   "source": [
    "delta = 0.00000001\n",
    "\n",
    "all_dicts = []\n",
    "\n",
    "for xs in np.arange(0.0001,0.001,0.00005):\n",
    "    x_star = [xs]\n",
    "    ll,nrmse1,corr,crps,f_x = estimate_blackbox_function_loss(intention_sim,ukr_people_depart_poland_by_date,\n",
    "                                                          surrogate_conflict_haz,x_star,lerr=lerror,lcorr=lcorr,\n",
    "                                                          no_print=1,conflict_context=conflict_context)\n",
    "\n",
    "    cov1 = compute_covariance(f_x, ukr_people_depart_poland_by_date, 'departure', '2022-04-01', '2022-08-01',\n",
    "                             print_flag=0)\n",
    "    #print(cov)\n",
    "\n",
    "    std1 = compute_std(f_x, ukr_people_depart_poland_by_date, 'departure', '2022-04-01', '2022-08-01',\n",
    "                             print_flag=0)\n",
    "    #print(std)\n",
    "\n",
    "    x_star = [xs+delta]\n",
    "    ll,nrmse2,corr,crps,f_x = estimate_blackbox_function_loss(intention_sim,ukr_people_depart_poland_by_date,\n",
    "                                                          surrogate_conflict_haz,x_star,lerr=lerror,lcorr=lcorr,\n",
    "                                                          no_print=1,conflict_context=conflict_context)\n",
    "\n",
    "    cov2 = compute_covariance(f_x, ukr_people_depart_poland_by_date, 'departure', '2022-04-01', '2022-08-01',\n",
    "                             print_flag=0)\n",
    "    #print(cov)\n",
    "\n",
    "    std2 = compute_std(f_x, ukr_people_depart_poland_by_date, 'departure', '2022-04-01', '2022-08-01',\n",
    "                             print_flag=0)\n",
    "    #print(std)\n",
    "\n",
    "    grad_cov1 = (cov1-cov2)/(-delta)\n",
    "    grad_std1 = (std1-std2)/(-delta)\n",
    "\n",
    "    lhs = grad_cov1/cov1\n",
    "    rhs = grad_std1/std1\n",
    "\n",
    "    print(round(xs,7),lhs,rhs,(nrmse1-nrmse2)/(-delta))\n",
    "    all_dicts.append({'$\\\\theta$':round(xs,7),'$\\\\frac{\\\\nabla \\sigma_{f, \\\\hat{R}}}{\\\\sigma_{f,\\hat{R}}}$':lhs,\n",
    "                     '$\\\\frac{\\\\nabla \\sigma_f}{\\sigma_f}$':rhs,'$\\\\nabla RMSE(\\\\theta)$':(nrmse1-nrmse2)/(-delta)})\n",
    "    \n",
    "overall = pd.DataFrame.from_dict(all_dicts)"
   ]
  },
  {
   "cell_type": "code",
   "execution_count": 35,
   "id": "1338966d-2c0b-4957-980e-4e4fb1223458",
   "metadata": {
    "tags": []
   },
   "outputs": [
    {
     "data": {
      "text/html": [
       "<div>\n",
       "<style scoped>\n",
       "    .dataframe tbody tr th:only-of-type {\n",
       "        vertical-align: middle;\n",
       "    }\n",
       "\n",
       "    .dataframe tbody tr th {\n",
       "        vertical-align: top;\n",
       "    }\n",
       "\n",
       "    .dataframe thead th {\n",
       "        text-align: right;\n",
       "    }\n",
       "</style>\n",
       "<table border=\"1\" class=\"dataframe\">\n",
       "  <thead>\n",
       "    <tr style=\"text-align: right;\">\n",
       "      <th></th>\n",
       "      <th>$\\theta$</th>\n",
       "      <th>$\\frac{\\nabla \\sigma_{f, \\hat{R}}}{\\sigma_{f,\\hat{R}}}$</th>\n",
       "      <th>$\\frac{\\nabla \\sigma_f}{\\sigma_f}$</th>\n",
       "      <th>$\\nabla RMSE(\\theta)$</th>\n",
       "    </tr>\n",
       "  </thead>\n",
       "  <tbody>\n",
       "    <tr>\n",
       "      <th>0</th>\n",
       "      <td>0.000276</td>\n",
       "      <td>-4095.029739</td>\n",
       "      <td>-1979.413278</td>\n",
       "      <td>-17.831328</td>\n",
       "    </tr>\n",
       "    <tr>\n",
       "      <th>1</th>\n",
       "      <td>0.000277</td>\n",
       "      <td>-4098.525636</td>\n",
       "      <td>-1976.544746</td>\n",
       "      <td>-13.966556</td>\n",
       "    </tr>\n",
       "    <tr>\n",
       "      <th>2</th>\n",
       "      <td>0.000277</td>\n",
       "      <td>-4102.023035</td>\n",
       "      <td>-1973.670578</td>\n",
       "      <td>-10.105442</td>\n",
       "    </tr>\n",
       "    <tr>\n",
       "      <th>3</th>\n",
       "      <td>0.000277</td>\n",
       "      <td>-4105.521994</td>\n",
       "      <td>-1970.790820</td>\n",
       "      <td>-6.248005</td>\n",
       "    </tr>\n",
       "    <tr>\n",
       "      <th>4</th>\n",
       "      <td>0.000277</td>\n",
       "      <td>-4109.022415</td>\n",
       "      <td>-1967.905394</td>\n",
       "      <td>-2.394286</td>\n",
       "    </tr>\n",
       "    <tr>\n",
       "      <th>5</th>\n",
       "      <td>0.000277</td>\n",
       "      <td>-4112.524437</td>\n",
       "      <td>-1965.014419</td>\n",
       "      <td>1.455699</td>\n",
       "    </tr>\n",
       "    <tr>\n",
       "      <th>6</th>\n",
       "      <td>0.000277</td>\n",
       "      <td>-4107.421302</td>\n",
       "      <td>-1941.869671</td>\n",
       "      <td>6.584414</td>\n",
       "    </tr>\n",
       "    <tr>\n",
       "      <th>7</th>\n",
       "      <td>0.000277</td>\n",
       "      <td>-4151.437528</td>\n",
       "      <td>-1986.601121</td>\n",
       "      <td>18.054937</td>\n",
       "    </tr>\n",
       "    <tr>\n",
       "      <th>8</th>\n",
       "      <td>0.000277</td>\n",
       "      <td>-4154.970180</td>\n",
       "      <td>-1983.640920</td>\n",
       "      <td>21.890979</td>\n",
       "    </tr>\n",
       "    <tr>\n",
       "      <th>9</th>\n",
       "      <td>0.000277</td>\n",
       "      <td>-4158.504450</td>\n",
       "      <td>-1980.675017</td>\n",
       "      <td>25.723123</td>\n",
       "    </tr>\n",
       "    <tr>\n",
       "      <th>10</th>\n",
       "      <td>0.000278</td>\n",
       "      <td>-4162.040293</td>\n",
       "      <td>-1977.703386</td>\n",
       "      <td>29.551335</td>\n",
       "    </tr>\n",
       "  </tbody>\n",
       "</table>\n",
       "</div>"
      ],
      "text/plain": [
       "    $\\theta$  $\\frac{\\nabla \\sigma_{f, \\hat{R}}}{\\sigma_{f,\\hat{R}}}$  \\\n",
       "0   0.000276                                       -4095.029739         \n",
       "1   0.000277                                       -4098.525636         \n",
       "2   0.000277                                       -4102.023035         \n",
       "3   0.000277                                       -4105.521994         \n",
       "4   0.000277                                       -4109.022415         \n",
       "5   0.000277                                       -4112.524437         \n",
       "6   0.000277                                       -4107.421302         \n",
       "7   0.000277                                       -4151.437528         \n",
       "8   0.000277                                       -4154.970180         \n",
       "9   0.000277                                       -4158.504450         \n",
       "10  0.000278                                       -4162.040293         \n",
       "\n",
       "    $\\frac{\\nabla \\sigma_f}{\\sigma_f}$  $\\nabla RMSE(\\theta)$  \n",
       "0                         -1979.413278             -17.831328  \n",
       "1                         -1976.544746             -13.966556  \n",
       "2                         -1973.670578             -10.105442  \n",
       "3                         -1970.790820              -6.248005  \n",
       "4                         -1967.905394              -2.394286  \n",
       "5                         -1965.014419               1.455699  \n",
       "6                         -1941.869671               6.584414  \n",
       "7                         -1986.601121              18.054937  \n",
       "8                         -1983.640920              21.890979  \n",
       "9                         -1980.675017              25.723123  \n",
       "10                        -1977.703386              29.551335  "
      ]
     },
     "execution_count": 35,
     "metadata": {},
     "output_type": "execute_result"
    }
   ],
   "source": [
    "around_loc_min"
   ]
  },
  {
   "cell_type": "code",
   "execution_count": 32,
   "id": "9b755fca-3d1e-46d2-ab86-a43b24793e99",
   "metadata": {
    "tags": []
   },
   "outputs": [
    {
     "name": "stdout",
     "output_type": "stream",
     "text": [
      "\\begin{tabular}{rrrr}\n",
      "\\toprule\n",
      "$\\theta$ & $\\frac{\\nabla \\sigma_{f, \\hat{R}}}{\\sigma_{f,\\hat{R}}}$ & $\\frac{\\nabla \\sigma_f}{\\sigma_f}$ & $\\nabla RMSE(\\theta)$ \\\\\n",
      "\\midrule\n",
      "0.000276 & -4095.029739 & -1979.413278 & -17.831328 \\\\\n",
      "0.000277 & -4098.525636 & -1976.544746 & -13.966556 \\\\\n",
      "0.000277 & -4102.023035 & -1973.670578 & -10.105442 \\\\\n",
      "0.000277 & -4105.521994 & -1970.790820 & -6.248005 \\\\\n",
      "0.000277 & -4109.022415 & -1967.905394 & -2.394286 \\\\\n",
      "0.000277 & -4112.524437 & -1965.014419 & 1.455699 \\\\\n",
      "0.000277 & -4107.421302 & -1941.869671 & 6.584414 \\\\\n",
      "0.000277 & -4151.437528 & -1986.601121 & 18.054937 \\\\\n",
      "0.000277 & -4154.970180 & -1983.640920 & 21.890979 \\\\\n",
      "0.000277 & -4158.504450 & -1980.675017 & 25.723123 \\\\\n",
      "0.000278 & -4162.040293 & -1977.703386 & 29.551335 \\\\\n",
      "\\bottomrule\n",
      "\\end{tabular}\n",
      "\n"
     ]
    }
   ],
   "source": [
    "print(around_loc_min.to_latex(index=False))"
   ]
  },
  {
   "cell_type": "code",
   "execution_count": 23,
   "id": "2bc028aa-3704-4e3c-bd5d-5542133c7583",
   "metadata": {
    "tags": []
   },
   "outputs": [
    {
     "name": "stdout",
     "output_type": "stream",
     "text": [
      "0.0001 4364.290874228776 2908.489304411506\n",
      "0.0002 -1362.7762940553077 -2090.909702256894\n",
      "0.0003 -4980.408036783411 -1341.1704060188233\n",
      "0.0004 -13579.183999764045 2092.404580995422\n",
      "0.0005 38370.934345798596 2489.9756937682673\n",
      "0.0006 7438.6535180149895 2060.997093809742\n",
      "0.0007 3835.1511314321274 1581.3971865662072\n",
      "0.0008 2431.3182764614453 1192.2738249157335\n",
      "0.0009 1707.8858604799284 933.6093969764858\n"
     ]
    }
   ],
   "source": [
    "delta = 0.00000001\n",
    "for xs in np.arange(0.0001,0.001,0.0001):\n",
    "    x_star = [xs]\n",
    "    ll,nrmse,corr,crps,f_x = estimate_blackbox_function_loss(intention_sim,ukr_people_depart_poland_by_date,\n",
    "                                                          surrogate_conflict_haz,x_star,lerr=lerror,lcorr=lcorr,\n",
    "                                                          no_print=1,conflict_context=conflict_context)\n",
    "\n",
    "    cov1 = compute_covariance(f_x, ukr_people_depart_poland_by_date, 'departure', '2022-04-01', '2022-08-01',\n",
    "                             print_flag=0)\n",
    "    #print(cov)\n",
    "\n",
    "    std1 = compute_std(f_x, ukr_people_depart_poland_by_date, 'departure', '2022-04-01', '2022-08-01',\n",
    "                             print_flag=0)\n",
    "    #print(std)\n",
    "\n",
    "    x_star = [xs+delta]\n",
    "    ll,nrmse,corr,crps,f_x = estimate_blackbox_function_loss(intention_sim,ukr_people_depart_poland_by_date,\n",
    "                                                          surrogate_conflict_haz,x_star,lerr=lerror,lcorr=lcorr,\n",
    "                                                          no_print=1,conflict_context=conflict_context)\n",
    "\n",
    "    cov2 = compute_covariance(f_x, ukr_people_depart_poland_by_date, 'departure', '2022-04-01', '2022-08-01',\n",
    "                             print_flag=0)\n",
    "    #print(cov)\n",
    "\n",
    "    std2 = compute_std(f_x, ukr_people_depart_poland_by_date, 'departure', '2022-04-01', '2022-08-01',\n",
    "                             print_flag=0)\n",
    "    #print(std)\n",
    "\n",
    "    grad_cov1 = (cov1-cov2)/(-delta)\n",
    "    grad_std1 = (std1-std2)/(-delta)\n",
    "\n",
    "    lhs = grad_cov1/cov1\n",
    "    rhs = grad_std1/std1\n",
    "\n",
    "    print(round(xs,4),lhs,rhs)\n"
   ]
  },
  {
   "cell_type": "code",
   "execution_count": 8,
   "id": "1535db52-068d-4e5f-8e93-d16acb799298",
   "metadata": {
    "tags": []
   },
   "outputs": [
    {
     "data": {
      "text/html": [
       "<div>\n",
       "<style scoped>\n",
       "    .dataframe tbody tr th:only-of-type {\n",
       "        vertical-align: middle;\n",
       "    }\n",
       "\n",
       "    .dataframe tbody tr th {\n",
       "        vertical-align: top;\n",
       "    }\n",
       "\n",
       "    .dataframe thead th {\n",
       "        text-align: right;\n",
       "    }\n",
       "</style>\n",
       "<table border=\"1\" class=\"dataframe\">\n",
       "  <thead>\n",
       "    <tr style=\"text-align: right;\">\n",
       "      <th></th>\n",
       "      <th>return_date</th>\n",
       "      <th>returnee</th>\n",
       "      <th>q1</th>\n",
       "      <th>q3</th>\n",
       "    </tr>\n",
       "  </thead>\n",
       "  <tbody>\n",
       "    <tr>\n",
       "      <th>0</th>\n",
       "      <td>2022-02-24</td>\n",
       "      <td>0.000000</td>\n",
       "      <td>0.000000</td>\n",
       "      <td>0.000000</td>\n",
       "    </tr>\n",
       "    <tr>\n",
       "      <th>1</th>\n",
       "      <td>2022-02-25</td>\n",
       "      <td>4.395000</td>\n",
       "      <td>3.314400</td>\n",
       "      <td>5.880520</td>\n",
       "    </tr>\n",
       "    <tr>\n",
       "      <th>2</th>\n",
       "      <td>2022-02-26</td>\n",
       "      <td>30.474992</td>\n",
       "      <td>25.335922</td>\n",
       "      <td>38.192489</td>\n",
       "    </tr>\n",
       "    <tr>\n",
       "      <th>3</th>\n",
       "      <td>2022-02-27</td>\n",
       "      <td>71.636163</td>\n",
       "      <td>62.683538</td>\n",
       "      <td>90.030594</td>\n",
       "    </tr>\n",
       "    <tr>\n",
       "      <th>4</th>\n",
       "      <td>2022-02-28</td>\n",
       "      <td>131.864306</td>\n",
       "      <td>113.438138</td>\n",
       "      <td>163.344405</td>\n",
       "    </tr>\n",
       "    <tr>\n",
       "      <th>...</th>\n",
       "      <td>...</td>\n",
       "      <td>...</td>\n",
       "      <td>...</td>\n",
       "      <td>...</td>\n",
       "    </tr>\n",
       "    <tr>\n",
       "      <th>187</th>\n",
       "      <td>2022-08-30</td>\n",
       "      <td>16289.349341</td>\n",
       "      <td>13581.700571</td>\n",
       "      <td>18159.440169</td>\n",
       "    </tr>\n",
       "    <tr>\n",
       "      <th>188</th>\n",
       "      <td>2022-08-31</td>\n",
       "      <td>16178.628270</td>\n",
       "      <td>13446.324843</td>\n",
       "      <td>17978.981746</td>\n",
       "    </tr>\n",
       "    <tr>\n",
       "      <th>189</th>\n",
       "      <td>2022-09-01</td>\n",
       "      <td>16063.406745</td>\n",
       "      <td>13308.164517</td>\n",
       "      <td>17795.057941</td>\n",
       "    </tr>\n",
       "    <tr>\n",
       "      <th>190</th>\n",
       "      <td>2022-09-09</td>\n",
       "      <td>15955.185849</td>\n",
       "      <td>13175.388951</td>\n",
       "      <td>17618.466545</td>\n",
       "    </tr>\n",
       "    <tr>\n",
       "      <th>191</th>\n",
       "      <td>2022-09-12</td>\n",
       "      <td>15833.451529</td>\n",
       "      <td>13033.686948</td>\n",
       "      <td>17429.890835</td>\n",
       "    </tr>\n",
       "  </tbody>\n",
       "</table>\n",
       "<p>192 rows × 4 columns</p>\n",
       "</div>"
      ],
      "text/plain": [
       "    return_date      returnee            q1            q3\n",
       "0    2022-02-24      0.000000      0.000000      0.000000\n",
       "1    2022-02-25      4.395000      3.314400      5.880520\n",
       "2    2022-02-26     30.474992     25.335922     38.192489\n",
       "3    2022-02-27     71.636163     62.683538     90.030594\n",
       "4    2022-02-28    131.864306    113.438138    163.344405\n",
       "..          ...           ...           ...           ...\n",
       "187  2022-08-30  16289.349341  13581.700571  18159.440169\n",
       "188  2022-08-31  16178.628270  13446.324843  17978.981746\n",
       "189  2022-09-01  16063.406745  13308.164517  17795.057941\n",
       "190  2022-09-09  15955.185849  13175.388951  17618.466545\n",
       "191  2022-09-12  15833.451529  13033.686948  17429.890835\n",
       "\n",
       "[192 rows x 4 columns]"
      ]
     },
     "execution_count": 8,
     "metadata": {},
     "output_type": "execute_result"
    }
   ],
   "source": [
    "f_x"
   ]
  },
  {
   "cell_type": "code",
   "execution_count": 16,
   "id": "2ceb14a3-17fa-4aee-ba20-0ccbdd027d57",
   "metadata": {
    "tags": []
   },
   "outputs": [
    {
     "name": "stdout",
     "output_type": "stream",
     "text": [
      "0.13576077980168522 0.9104908177685801\n"
     ]
    }
   ],
   "source": [
    "print(nrmse,corr)"
   ]
  },
  {
   "cell_type": "code",
   "execution_count": 24,
   "id": "52372faf-fdfb-496f-b598-a3a379a5f444",
   "metadata": {
    "tags": []
   },
   "outputs": [],
   "source": [
    "x_star = [0.0005, 0.0003, 0.0002, 0.0003]\n",
    "\n",
    "ll,nrmse,corr,crps,_ = estimate_blackbox_function_loss_per_demo4(intention_sim_demo4,ukr_people_depart_poland_by_date,\n",
    "                                                           surrogate_conflict_haz,x_star,lerr=lerror,lcorr=lcorr,no_print=1,conflict_context=conflict_context)"
   ]
  },
  {
   "cell_type": "code",
   "execution_count": 25,
   "id": "c8a01d15-8fb0-458b-997a-01db6baeaa2f",
   "metadata": {
    "tags": []
   },
   "outputs": [
    {
     "name": "stdout",
     "output_type": "stream",
     "text": [
      "0.19294964830659642 0.9441709082072338\n"
     ]
    }
   ],
   "source": [
    "print(nrmse,corr)"
   ]
  },
  {
   "cell_type": "code",
   "execution_count": 28,
   "id": "f0fba108-4f62-4ce9-adeb-53530a49e4e8",
   "metadata": {
    "tags": []
   },
   "outputs": [
    {
     "data": {
      "text/plain": [
       "1000"
      ]
     },
     "execution_count": 28,
     "metadata": {},
     "output_type": "execute_result"
    }
   ],
   "source": [
    "len(data)"
   ]
  },
  {
   "cell_type": "code",
   "execution_count": 29,
   "id": "3eab0aae-f896-4454-945d-7a02b3af446d",
   "metadata": {},
   "outputs": [
    {
     "name": "stdout",
     "output_type": "stream",
     "text": [
      "50 iteration done in 0.0001 seconds\n",
      "1000\n",
      "50 iteration done in 30.9212 seconds\n",
      "950\n",
      "50 iteration done in 30.9594 seconds\n",
      "900\n",
      "50 iteration done in 31.2456 seconds\n",
      "850\n",
      "50 iteration done in 31.3154 seconds\n",
      "800\n",
      "50 iteration done in 31.1787 seconds\n",
      "750\n",
      "50 iteration done in 31.2938 seconds\n",
      "700\n",
      "50 iteration done in 31.408 seconds\n",
      "650\n",
      "50 iteration done in 31.2194 seconds\n",
      "600\n",
      "50 iteration done in 31.1493 seconds\n",
      "550\n",
      "50 iteration done in 31.2584 seconds\n",
      "500\n",
      "50 iteration done in 32.1721 seconds\n",
      "450\n",
      "50 iteration done in 32.493 seconds\n",
      "400\n",
      "50 iteration done in 31.8652 seconds\n",
      "350\n",
      "50 iteration done in 31.8144 seconds\n",
      "300\n",
      "50 iteration done in 31.7284 seconds\n",
      "250\n",
      "50 iteration done in 32.0462 seconds\n",
      "200\n",
      "50 iteration done in 31.5914 seconds\n",
      "150\n",
      "50 iteration done in 31.2633 seconds\n",
      "100\n",
      "50 iteration done in 31.5435 seconds\n",
      "50\n"
     ]
    }
   ],
   "source": [
    "tot_it = 1000\n",
    "yy = []\n",
    "import time\n",
    "st = time.time()\n",
    "for x in data:\n",
    "    if tot_it%50==0:\n",
    "        print('50 iteration done in',round(time.time()-st,4),'seconds')\n",
    "        st = time.time()\n",
    "        print(tot_it)\n",
    "    tot_it = tot_it-1\n",
    "    #if(i%10==0):\n",
    "    #    print(i,'saving optimizer...',flush=True)\n",
    "        #with open(f'../optimizers/{optimizer_name}', 'wb') as f:\n",
    "        #    pickle.dump(opt, f)\n",
    "    #rr = opt.ask()\n",
    "    #print(rr)\n",
    "    ll,_,_,_,_ = estimate_blackbox_function_loss_per_demo4(intention_sim_demo4,ukr_people_depart_poland_by_date,\n",
    "                                                           surrogate_conflict_haz,x,lerr=lerror,lcorr=lcorr,no_print=1,conflict_context=conflict_context)\n",
    "    #print(next_h,ll)\n",
    "    #opt.tell(x,ll)\n",
    "    yy.append(ll)\n",
    "    \n",
    "\n",
    "#print(f'best result after {tot_it} iteration has a loss of',opt.get_result()['fun'],'for',opt.get_result()['x'])\n",
    "#_,nrmse,corr,_,_ = estimate_blackbox_function_loss_per_demo4(intention_sim_demo4,ukr_people_depart_poland_by_date,\n",
    "#                                                          surrogate_conflict_haz,opt.get_result()['x'],lerr=lerror,lcorr=lcorr,no_print=1,\n",
    "#                                                            conflict_context=conflict_context)\n",
    "#print('nrmse:',nrmse)\n",
    "#print('corr:',corr)\n",
    "\n",
    "#ll_const,sim_df_const = estimate_blackbox_function_loss(intention_sim,surrogate_constant_haz,opt.get_result()['x'],no_print=0)\n",
    "\n",
    "#with open(f'../optimizers/{optimizer_name}', 'wb') as f:\n",
    "#    pickle.dump(opt, f)\n",
    "    \n",
    "#groups = ['single_male','single_female','male_only','female_only',\n",
    "#              'elderly_no_child','child_no_elderly','child_and_elderly','just_couples']"
   ]
  },
  {
   "cell_type": "code",
   "execution_count": 30,
   "id": "c87983a5-42e8-4e33-9496-e9111f8b401f",
   "metadata": {
    "tags": []
   },
   "outputs": [],
   "source": [
    "with open(f'./surrogate_case_study_results/return-optimizer-bayes-demo4-surrrogate-const-{random_state}-x', 'wb') as f:\n",
    "    np.save(f,np.array(data))\n",
    "    \n",
    "with open(f'./surrogate_case_study_results/return-optimizer-bayes-demo4-surrrogate-const-{random_state}-y', 'wb') as f:\n",
    "    np.save(f,np.array(yy))"
   ]
  },
  {
   "cell_type": "code",
   "execution_count": 13,
   "id": "ebc6680b-edde-4f96-a93f-4395348ba192",
   "metadata": {
    "tags": []
   },
   "outputs": [
    {
     "data": {
      "text/plain": [
       "(1000,)"
      ]
     },
     "execution_count": 13,
     "metadata": {},
     "output_type": "execute_result"
    }
   ],
   "source": [
    "#np.array(yy).shape"
   ]
  },
  {
   "cell_type": "code",
   "execution_count": null,
   "id": "1e387436-d73e-4635-8eff-256780febdee",
   "metadata": {},
   "outputs": [],
   "source": []
  }
 ],
 "metadata": {
  "kernelspec": {
   "display_name": "mig_env",
   "language": "python",
   "name": "migration_env"
  },
  "language_info": {
   "codemirror_mode": {
    "name": "ipython",
    "version": 3
   },
   "file_extension": ".py",
   "mimetype": "text/x-python",
   "name": "python",
   "nbconvert_exporter": "python",
   "pygments_lexer": "ipython3",
   "version": "3.13.0"
  }
 },
 "nbformat": 4,
 "nbformat_minor": 5
}
